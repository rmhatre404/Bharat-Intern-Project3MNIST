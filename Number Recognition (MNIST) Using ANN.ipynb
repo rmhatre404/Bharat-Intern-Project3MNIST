{
 "cells": [
  {
   "cell_type": "markdown",
   "id": "6a989614",
   "metadata": {},
   "source": [
    "# PROJECT : Number Recognition\n",
    "\n",
    "\n",
    "# Name: Raj C. Mhatre\n",
    "\n",
    "*Email id :rmhatre404@gmail.com (mailto:rmhatre404@gmail.com) , contact No.: +91-9768877272*\n",
    "\n",
    "*Linkedin ID: https://www.linkedin.com/in/raj-c-mhatre-571b67219/*"
   ]
  },
  {
   "cell_type": "code",
   "execution_count": 1,
   "id": "29d341be",
   "metadata": {},
   "outputs": [],
   "source": [
    "# Importing libraries:\n",
    "\n",
    "import numpy as np\n",
    "%matplotlib inline\n",
    "import matplotlib.pyplot as plt\n",
    "\n",
    "import tensorflow\n",
    "from tensorflow import keras\n",
    "from tensorflow.keras import Sequential\n",
    "from tensorflow.keras.layers import Dense, Flatten, Dropout\n",
    "from keras.callbacks import EarlyStopping"
   ]
  },
  {
   "cell_type": "code",
   "execution_count": 2,
   "id": "f0bec21b",
   "metadata": {},
   "outputs": [],
   "source": [
    "# Importing Data:\n",
    "\n",
    "from tensorflow.keras.datasets import mnist"
   ]
  },
  {
   "cell_type": "code",
   "execution_count": 3,
   "id": "be0f08b3",
   "metadata": {},
   "outputs": [],
   "source": [
    "# Splitting dataset into training and testing format:\n",
    "\n",
    "(X_train, y_train), (X_test, y_test) = keras.datasets.mnist.load_data()"
   ]
  },
  {
   "cell_type": "code",
   "execution_count": 4,
   "id": "d6ecbbe1",
   "metadata": {},
   "outputs": [
    {
     "data": {
      "text/plain": [
       "(60000, 28, 28)"
      ]
     },
     "execution_count": 4,
     "metadata": {},
     "output_type": "execute_result"
    }
   ],
   "source": [
    "# 60,000 images for training:\n",
    "\n",
    "X_train.shape"
   ]
  },
  {
   "cell_type": "code",
   "execution_count": 5,
   "id": "f96f8f7a",
   "metadata": {},
   "outputs": [
    {
     "data": {
      "text/plain": [
       "(10000, 28, 28)"
      ]
     },
     "execution_count": 5,
     "metadata": {},
     "output_type": "execute_result"
    }
   ],
   "source": [
    "# 10,000 images for testing:\n",
    "\n",
    "X_test.shape"
   ]
  },
  {
   "cell_type": "code",
   "execution_count": 6,
   "id": "5aec2257",
   "metadata": {},
   "outputs": [
    {
     "data": {
      "text/plain": [
       "array([5, 0, 4, ..., 5, 6, 8], dtype=uint8)"
      ]
     },
     "execution_count": 6,
     "metadata": {},
     "output_type": "execute_result"
    }
   ],
   "source": [
    "# Output labels of images:\n",
    "\n",
    "y_train"
   ]
  },
  {
   "cell_type": "code",
   "execution_count": 7,
   "id": "5594a678",
   "metadata": {},
   "outputs": [],
   "source": [
    "# Using suffling method for keeping randomness in image selection:\n",
    "\n",
    "shuffle_index = np.random.permutation(60000)\n",
    "X_train, y_train = X_train[shuffle_index], y_train[shuffle_index]"
   ]
  },
  {
   "cell_type": "code",
   "execution_count": 8,
   "id": "8303fcfa",
   "metadata": {},
   "outputs": [
    {
     "data": {
      "text/plain": [
       "(-0.5, 27.5, 27.5, -0.5)"
      ]
     },
     "execution_count": 8,
     "metadata": {},
     "output_type": "execute_result"
    },
    {
     "data": {
      "image/png": "[encoded data removed]",
      "text/plain": [
       "<Figure size 640x480 with 1 Axes>"
      ]
     },
     "metadata": {},
     "output_type": "display_data"
    }
   ],
   "source": [
    "# Displaying image by using matplot:\n",
    "\n",
    "plt.imshow(X_train[1000], cmap=\"binary\")\n",
    "plt.axis(\"off\")"
   ]
  },
  {
   "cell_type": "code",
   "execution_count": 9,
   "id": "38d49f14",
   "metadata": {},
   "outputs": [
    {
     "data": {
      "text/plain": [
       "array([[  0,   0,   0,   0,   0,   0,   0,   0,   0,   0,   0,   0,   0,\n",
       "          0,   0,   0,   0,   0,   0,   0,   0,   0,   0,   0,   0,   0,\n",
       "          0,   0],\n",
       "       [  0,   0,   0,   0,   0,   0,   0,   0,   0,   0,   0,   0,   0,\n",
       "          0,   0,   0,   0,   0,   0,   0,   0,   0,   0,   0,   0,   0,\n",
       "          0,   0],\n",
       "       [  0,   0,   0,   0,   0,   0,   0,   0,   0,   0,   0,   0,   0,\n",
       "          0,   0,   0,   0,   0,   0,   0,   0,   0,   0,   0,   0,   0,\n",
       "          0,   0],\n",
       "       [  0,   0,   0,   0,   0,   0,   0,   0,   0,   0,   0,   0,   0,\n",
       "          0,   0,   0,   0,   0,   0,   0,   0,   0,   0,   0,   0,   0,\n",
       "          0,   0],\n",
       "       [  0,   0,   0,   0,   0,   0,   0,   0,   0,   0,   0,   0,   0,\n",
       "          0,   0,   0,   0,   0,   0,   0,   0,   0,   0,   0,   0,   0,\n",
       "          0,   0],\n",
       "       [  0,   0,   0,   0,   0,   0,   0,   0,   0, 135, 232, 109,   0,\n",
       "          0,   0,   0,   0,   0,   0,   0,   0,   0,   0,   0,   0,   0,\n",
       "          0,   0],\n",
       "       [  0,   0,   0,   0,   0,   0,   0,   0,  32, 227, 252, 252,   0,\n",
       "          0,   0,   0,   0,   0,   0,   0,   0,   0,   0,   0,   0,   0,\n",
       "          0,   0],\n",
       "       [  0,   0,   0,   0,   0,   0,   0,   0, 109, 252, 252, 252,   0,\n",
       "          0,   0,   0,   0,  73, 181, 181,  21,   0,   0,   0,   0,   0,\n",
       "          0,   0],\n",
       "       [  0,   0,   0,   0,   0,   0,   0,   1, 191, 252, 252, 168,   0,\n",
       "          0,   0,   0,   1, 217, 252, 252, 144,   0,   0,   0,   0,   0,\n",
       "          0,   0],\n",
       "       [  0,   0,   0,   0,   0,   0,   0,   1, 252, 252, 252, 108,   0,\n",
       "          0,   0,   0, 171, 252, 252, 252, 144,   0,   0,   0,   0,   0,\n",
       "          0,   0],\n",
       "       [  0,   0,   0,   0,   0,   0,   0, 125, 252, 252, 220,  15,   0,\n",
       "         63,  94, 217, 253, 252, 252, 252, 144,   0,   0,   0,   0,   0,\n",
       "          0,   0],\n",
       "       [  0,   0,   0,   0,   0,   0,   0, 144, 252, 252, 241, 181, 182,\n",
       "        242, 252, 252, 253, 252, 252, 252, 125,   0,   0,   0,   0,   0,\n",
       "          0,   0],\n",
       "       [  0,   0,   0,   0,   0,   0,   0, 144, 252, 252, 252, 252, 253,\n",
       "        252, 252, 252, 253, 252, 252, 252,   0,   0,   0,   0,   0,   0,\n",
       "          0,   0],\n",
       "       [  0,   0,   0,   0,   0,   0,   0, 145, 253, 253, 253, 253, 255,\n",
       "        253, 253, 253, 255, 253, 253, 191,   0,   0,   0,   0,   0,   0,\n",
       "          0,   0],\n",
       "       [  0,   0,   0,   0,   0,   0,   0, 144, 252, 252, 252, 210, 180,\n",
       "        179,  76,  35, 253, 252, 252, 108,   0,   0,   0,   0,   0,   0,\n",
       "          0,   0],\n",
       "       [  0,   0,   0,   0,   0,   0,   0,  41,  71, 154, 154,  31,   0,\n",
       "          0,   0, 105, 253, 252, 252, 108,   0,   0,   0,   0,   0,   0,\n",
       "          0,   0],\n",
       "       [  0,   0,   0,   0,   0,   0,   0,   0,   0,   0,   0,   0,   0,\n",
       "          0,  21, 206, 253, 252, 231,  46,   0,   0,   0,   0,   0,   0,\n",
       "          0,   0],\n",
       "       [  0,   0,   0,   0,   0,   0,   0,   0,   0,   0,   0,   0,   0,\n",
       "          0,  37, 253, 255, 253, 217,   0,   0,   0,   0,   0,   0,   0,\n",
       "          0,   0],\n",
       "       [  0,   0,   0,   0,   0,   0,   0,   0,   0,   0,   0,   0,   0,\n",
       "          0, 161, 252, 253, 252, 132,   0,   0,   0,   0,   0,   0,   0,\n",
       "          0,   0],\n",
       "       [  0,   0,   0,   0,   0,   0,   0,   0,   0,   0,   0,   0,   0,\n",
       "          0, 181, 252, 253, 252, 215,   0,   0,   0,   0,   0,   0,   0,\n",
       "          0,   0],\n",
       "       [  0,   0,   0,   0,   0,   0,   0,   0,   0,   0,   0,   0,   0,\n",
       "          0, 181, 252, 253, 252, 215,   0,   0,   0,   0,   0,   0,   0,\n",
       "          0,   0],\n",
       "       [  0,   0,   0,   0,   0,   0,   0,   0,   0,   0,   0,   0,   0,\n",
       "          0, 182, 253, 255, 222,  41,   0,   0,   0,   0,   0,   0,   0,\n",
       "          0,   0],\n",
       "       [  0,   0,   0,   0,   0,   0,   0,   0,   0,   0,   0,   0,   0,\n",
       "         63, 242, 252, 253, 179,   0,   0,   0,   0,   0,   0,   0,   0,\n",
       "          0,   0],\n",
       "       [  0,   0,   0,   0,   0,   0,   0,   0,   0,   0,   0,   0,   0,\n",
       "         63, 241, 252, 253, 158,   0,   0,   0,   0,   0,   0,   0,   0,\n",
       "          0,   0],\n",
       "       [  0,   0,   0,   0,   0,   0,   0,   0,   0,   0,   0,   0,   0,\n",
       "          0, 181, 252, 191,  15,   0,   0,   0,   0,   0,   0,   0,   0,\n",
       "          0,   0],\n",
       "       [  0,   0,   0,   0,   0,   0,   0,   0,   0,   0,   0,   0,   0,\n",
       "          0,   0,   0,   0,   0,   0,   0,   0,   0,   0,   0,   0,   0,\n",
       "          0,   0],\n",
       "       [  0,   0,   0,   0,   0,   0,   0,   0,   0,   0,   0,   0,   0,\n",
       "          0,   0,   0,   0,   0,   0,   0,   0,   0,   0,   0,   0,   0,\n",
       "          0,   0],\n",
       "       [  0,   0,   0,   0,   0,   0,   0,   0,   0,   0,   0,   0,   0,\n",
       "          0,   0,   0,   0,   0,   0,   0,   0,   0,   0,   0,   0,   0,\n",
       "          0,   0]], dtype=uint8)"
      ]
     },
     "execution_count": 9,
     "metadata": {},
     "output_type": "execute_result"
    }
   ],
   "source": [
    "# Pixel values for the selected images:\n",
    "\n",
    "X_train[1000]"
   ]
  },
  {
   "cell_type": "code",
   "execution_count": 10,
   "id": "4284188d",
   "metadata": {},
   "outputs": [],
   "source": [
    "# Normalizing pixel values of all images:\n",
    "\n",
    "X_train = X_train/255\n",
    "X_test = X_test/255"
   ]
  },
  {
   "cell_type": "code",
   "execution_count": 11,
   "id": "e4af8f69",
   "metadata": {},
   "outputs": [
    {
     "data": {
      "text/plain": [
       "array([[0.        , 0.        , 0.        , 0.        , 0.        ,\n",
       "        0.        , 0.        , 0.        , 0.        , 0.        ,\n",
       "        0.        , 0.        , 0.        , 0.        , 0.        ,\n",
       "        0.        , 0.        , 0.        , 0.        , 0.        ,\n",
       "        0.        , 0.        , 0.        , 0.        , 0.        ,\n",
       "        0.        , 0.        , 0.        ],\n",
       "       [0.        , 0.        , 0.        , 0.        , 0.        ,\n",
       "        0.        , 0.        , 0.        , 0.        , 0.        ,\n",
       "        0.        , 0.        , 0.        , 0.        , 0.        ,\n",
       "        0.        , 0.        , 0.        , 0.        , 0.        ,\n",
       "        0.        , 0.        , 0.        , 0.        , 0.        ,\n",
       "        0.        , 0.        , 0.        ],\n",
       "       [0.        , 0.        , 0.        , 0.        , 0.        ,\n",
       "        0.        , 0.        , 0.        , 0.        , 0.        ,\n",
       "        0.        , 0.        , 0.        , 0.        , 0.        ,\n",
       "        0.        , 0.        , 0.        , 0.        , 0.        ,\n",
       "        0.        , 0.        , 0.        , 0.        , 0.        ,\n",
       "        0.        , 0.        , 0.        ],\n",
       "       [0.        , 0.        , 0.        , 0.        , 0.        ,\n",
       "        0.        , 0.        , 0.        , 0.        , 0.        ,\n",
       "        0.        , 0.        , 0.        , 0.        , 0.        ,\n",
       "        0.        , 0.        , 0.        , 0.        , 0.        ,\n",
       "        0.        , 0.        , 0.        , 0.        , 0.        ,\n",
       "        0.        , 0.        , 0.        ],\n",
       "       [0.        , 0.        , 0.        , 0.        , 0.        ,\n",
       "        0.        , 0.        , 0.        , 0.        , 0.        ,\n",
       "        0.        , 0.        , 0.        , 0.        , 0.        ,\n",
       "        0.        , 0.        , 0.        , 0.        , 0.        ,\n",
       "        0.        , 0.        , 0.        , 0.        , 0.        ,\n",
       "        0.        , 0.        , 0.        ],\n",
       "       [0.        , 0.        , 0.        , 0.        , 0.        ,\n",
       "        0.        , 0.        , 0.        , 0.        , 0.52941176,\n",
       "        0.90980392, 0.42745098, 0.        , 0.        , 0.        ,\n",
       "        0.        , 0.        , 0.        , 0.        , 0.        ,\n",
       "        0.        , 0.        , 0.        , 0.        , 0.        ,\n",
       "        0.        , 0.        , 0.        ],\n",
       "       [0.        , 0.        , 0.        , 0.        , 0.        ,\n",
       "        0.        , 0.        , 0.        , 0.1254902 , 0.89019608,\n",
       "        0.98823529, 0.98823529, 0.        , 0.        , 0.        ,\n",
       "        0.        , 0.        , 0.        , 0.        , 0.        ,\n",
       "        0.        , 0.        , 0.        , 0.        , 0.        ,\n",
       "        0.        , 0.        , 0.        ],\n",
       "       [0.        , 0.        , 0.        , 0.        , 0.        ,\n",
       "        0.        , 0.        , 0.        , 0.42745098, 0.98823529,\n",
       "        0.98823529, 0.98823529, 0.        , 0.        , 0.        ,\n",
       "        0.        , 0.        , 0.28627451, 0.70980392, 0.70980392,\n",
       "        0.08235294, 0.        , 0.        , 0.        , 0.        ,\n",
       "        0.        , 0.        , 0.        ],\n",
       "       [0.        , 0.        , 0.        , 0.        , 0.        ,\n",
       "        0.        , 0.        , 0.00392157, 0.74901961, 0.98823529,\n",
       "        0.98823529, 0.65882353, 0.        , 0.        , 0.        ,\n",
       "        0.        , 0.00392157, 0.85098039, 0.98823529, 0.98823529,\n",
       "        0.56470588, 0.        , 0.        , 0.        , 0.        ,\n",
       "        0.        , 0.        , 0.        ],\n",
       "       [0.        , 0.        , 0.        , 0.        , 0.        ,\n",
       "        0.        , 0.        , 0.00392157, 0.98823529, 0.98823529,\n",
       "        0.98823529, 0.42352941, 0.        , 0.        , 0.        ,\n",
       "        0.        , 0.67058824, 0.98823529, 0.98823529, 0.98823529,\n",
       "        0.56470588, 0.        , 0.        , 0.        , 0.        ,\n",
       "        0.        , 0.        , 0.        ],\n",
       "       [0.        , 0.        , 0.        , 0.        , 0.        ,\n",
       "        0.        , 0.        , 0.49019608, 0.98823529, 0.98823529,\n",
       "        0.8627451 , 0.05882353, 0.        , 0.24705882, 0.36862745,\n",
       "        0.85098039, 0.99215686, 0.98823529, 0.98823529, 0.98823529,\n",
       "        0.56470588, 0.        , 0.        , 0.        , 0.        ,\n",
       "        0.        , 0.        , 0.        ],\n",
       "       [0.        , 0.        , 0.        , 0.        , 0.        ,\n",
       "        0.        , 0.        , 0.56470588, 0.98823529, 0.98823529,\n",
       "        0.94509804, 0.70980392, 0.71372549, 0.94901961, 0.98823529,\n",
       "        0.98823529, 0.99215686, 0.98823529, 0.98823529, 0.98823529,\n",
       "        0.49019608, 0.        , 0.        , 0.        , 0.        ,\n",
       "        0.        , 0.        , 0.        ],\n",
       "       [0.        , 0.        , 0.        , 0.        , 0.        ,\n",
       "        0.        , 0.        , 0.56470588, 0.98823529, 0.98823529,\n",
       "        0.98823529, 0.98823529, 0.99215686, 0.98823529, 0.98823529,\n",
       "        0.98823529, 0.99215686, 0.98823529, 0.98823529, 0.98823529,\n",
       "        0.        , 0.        , 0.        , 0.        , 0.        ,\n",
       "        0.        , 0.        , 0.        ],\n",
       "       [0.        , 0.        , 0.        , 0.        , 0.        ,\n",
       "        0.        , 0.        , 0.56862745, 0.99215686, 0.99215686,\n",
       "        0.99215686, 0.99215686, 1.        , 0.99215686, 0.99215686,\n",
       "        0.99215686, 1.        , 0.99215686, 0.99215686, 0.74901961,\n",
       "        0.        , 0.        , 0.        , 0.        , 0.        ,\n",
       "        0.        , 0.        , 0.        ],\n",
       "       [0.        , 0.        , 0.        , 0.        , 0.        ,\n",
       "        0.        , 0.        , 0.56470588, 0.98823529, 0.98823529,\n",
       "        0.98823529, 0.82352941, 0.70588235, 0.70196078, 0.29803922,\n",
       "        0.1372549 , 0.99215686, 0.98823529, 0.98823529, 0.42352941,\n",
       "        0.        , 0.        , 0.        , 0.        , 0.        ,\n",
       "        0.        , 0.        , 0.        ],\n",
       "       [0.        , 0.        , 0.        , 0.        , 0.        ,\n",
       "        0.        , 0.        , 0.16078431, 0.27843137, 0.60392157,\n",
       "        0.60392157, 0.12156863, 0.        , 0.        , 0.        ,\n",
       "        0.41176471, 0.99215686, 0.98823529, 0.98823529, 0.42352941,\n",
       "        0.        , 0.        , 0.        , 0.        , 0.        ,\n",
       "        0.        , 0.        , 0.        ],\n",
       "       [0.        , 0.        , 0.        , 0.        , 0.        ,\n",
       "        0.        , 0.        , 0.        , 0.        , 0.        ,\n",
       "        0.        , 0.        , 0.        , 0.        , 0.08235294,\n",
       "        0.80784314, 0.99215686, 0.98823529, 0.90588235, 0.18039216,\n",
       "        0.        , 0.        , 0.        , 0.        , 0.        ,\n",
       "        0.        , 0.        , 0.        ],\n",
       "       [0.        , 0.        , 0.        , 0.        , 0.        ,\n",
       "        0.        , 0.        , 0.        , 0.        , 0.        ,\n",
       "        0.        , 0.        , 0.        , 0.        , 0.14509804,\n",
       "        0.99215686, 1.        , 0.99215686, 0.85098039, 0.        ,\n",
       "        0.        , 0.        , 0.        , 0.        , 0.        ,\n",
       "        0.        , 0.        , 0.        ],\n",
       "       [0.        , 0.        , 0.        , 0.        , 0.        ,\n",
       "        0.        , 0.        , 0.        , 0.        , 0.        ,\n",
       "        0.        , 0.        , 0.        , 0.        , 0.63137255,\n",
       "        0.98823529, 0.99215686, 0.98823529, 0.51764706, 0.        ,\n",
       "        0.        , 0.        , 0.        , 0.        , 0.        ,\n",
       "        0.        , 0.        , 0.        ],\n",
       "       [0.        , 0.        , 0.        , 0.        , 0.        ,\n",
       "        0.        , 0.        , 0.        , 0.        , 0.        ,\n",
       "        0.        , 0.        , 0.        , 0.        , 0.70980392,\n",
       "        0.98823529, 0.99215686, 0.98823529, 0.84313725, 0.        ,\n",
       "        0.        , 0.        , 0.        , 0.        , 0.        ,\n",
       "        0.        , 0.        , 0.        ],\n",
       "       [0.        , 0.        , 0.        , 0.        , 0.        ,\n",
       "        0.        , 0.        , 0.        , 0.        , 0.        ,\n",
       "        0.        , 0.        , 0.        , 0.        , 0.70980392,\n",
       "        0.98823529, 0.99215686, 0.98823529, 0.84313725, 0.        ,\n",
       "        0.        , 0.        , 0.        , 0.        , 0.        ,\n",
       "        0.        , 0.        , 0.        ],\n",
       "       [0.        , 0.        , 0.        , 0.        , 0.        ,\n",
       "        0.        , 0.        , 0.        , 0.        , 0.        ,\n",
       "        0.        , 0.        , 0.        , 0.        , 0.71372549,\n",
       "        0.99215686, 1.        , 0.87058824, 0.16078431, 0.        ,\n",
       "        0.        , 0.        , 0.        , 0.        , 0.        ,\n",
       "        0.        , 0.        , 0.        ],\n",
       "       [0.        , 0.        , 0.        , 0.        , 0.        ,\n",
       "        0.        , 0.        , 0.        , 0.        , 0.        ,\n",
       "        0.        , 0.        , 0.        , 0.24705882, 0.94901961,\n",
       "        0.98823529, 0.99215686, 0.70196078, 0.        , 0.        ,\n",
       "        0.        , 0.        , 0.        , 0.        , 0.        ,\n",
       "        0.        , 0.        , 0.        ],\n",
       "       [0.        , 0.        , 0.        , 0.        , 0.        ,\n",
       "        0.        , 0.        , 0.        , 0.        , 0.        ,\n",
       "        0.        , 0.        , 0.        , 0.24705882, 0.94509804,\n",
       "        0.98823529, 0.99215686, 0.61960784, 0.        , 0.        ,\n",
       "        0.        , 0.        , 0.        , 0.        , 0.        ,\n",
       "        0.        , 0.        , 0.        ],\n",
       "       [0.        , 0.        , 0.        , 0.        , 0.        ,\n",
       "        0.        , 0.        , 0.        , 0.        , 0.        ,\n",
       "        0.        , 0.        , 0.        , 0.        , 0.70980392,\n",
       "        0.98823529, 0.74901961, 0.05882353, 0.        , 0.        ,\n",
       "        0.        , 0.        , 0.        , 0.        , 0.        ,\n",
       "        0.        , 0.        , 0.        ],\n",
       "       [0.        , 0.        , 0.        , 0.        , 0.        ,\n",
       "        0.        , 0.        , 0.        , 0.        , 0.        ,\n",
       "        0.        , 0.        , 0.        , 0.        , 0.        ,\n",
       "        0.        , 0.        , 0.        , 0.        , 0.        ,\n",
       "        0.        , 0.        , 0.        , 0.        , 0.        ,\n",
       "        0.        , 0.        , 0.        ],\n",
       "       [0.        , 0.        , 0.        , 0.        , 0.        ,\n",
       "        0.        , 0.        , 0.        , 0.        , 0.        ,\n",
       "        0.        , 0.        , 0.        , 0.        , 0.        ,\n",
       "        0.        , 0.        , 0.        , 0.        , 0.        ,\n",
       "        0.        , 0.        , 0.        , 0.        , 0.        ,\n",
       "        0.        , 0.        , 0.        ],\n",
       "       [0.        , 0.        , 0.        , 0.        , 0.        ,\n",
       "        0.        , 0.        , 0.        , 0.        , 0.        ,\n",
       "        0.        , 0.        , 0.        , 0.        , 0.        ,\n",
       "        0.        , 0.        , 0.        , 0.        , 0.        ,\n",
       "        0.        , 0.        , 0.        , 0.        , 0.        ,\n",
       "        0.        , 0.        , 0.        ]])"
      ]
     },
     "execution_count": 11,
     "metadata": {},
     "output_type": "execute_result"
    }
   ],
   "source": [
    "# Here we can see the difference, all values are between 0 to 1:\n",
    "\n",
    "X_train[1000]"
   ]
  },
  {
   "cell_type": "code",
   "execution_count": 12,
   "id": "ad59a696",
   "metadata": {},
   "outputs": [],
   "source": [
    "# Neural Network:\n",
    "\n",
    "model = Sequential()\n",
    "model.add(Flatten(input_shape=(28,28)))     # Image format in 28X28 pixels\n",
    "model.add(Dropout(0.2))\n",
    "model.add(Dense(128,activation=\"relu\"))     # Hidden Layers\n",
    "model.add(Dropout(0.2))                     # To reduce Noise\n",
    "model.add(Dense(64,activation=\"relu\"))\n",
    "model.add(Dropout(0.2))\n",
    "model.add(Dense(10,activation=\"softmax\"))   # For Multiclass classification"
   ]
  },
  {
   "cell_type": "code",
   "execution_count": 13,
   "id": "94ee0d8e",
   "metadata": {},
   "outputs": [
    {
     "name": "stdout",
     "output_type": "stream",
     "text": [
      "Model: \"sequential\"\n",
      "_________________________________________________________________\n",
      " Layer (type)                Output Shape              Param #   \n",
      "=================================================================\n",
      " flatten (Flatten)           (None, 784)               0         \n",
      "                                                                 \n",
      " dropout (Dropout)           (None, 784)               0         \n",
      "                                                                 \n",
      " dense (Dense)               (None, 128)               100480    \n",
      "                                                                 \n",
      " dropout_1 (Dropout)         (None, 128)               0         \n",
      "                                                                 \n",
      " dense_1 (Dense)             (None, 64)                8256      \n",
      "                                                                 \n",
      " dropout_2 (Dropout)         (None, 64)                0         \n",
      "                                                                 \n",
      " dense_2 (Dense)             (None, 10)                650       \n",
      "                                                                 \n",
      "=================================================================\n",
      "Total params: 109,386\n",
      "Trainable params: 109,386\n",
      "Non-trainable params: 0\n",
      "_________________________________________________________________\n"
     ]
    }
   ],
   "source": [
    "# Model summary:\n",
    "\n",
    "model.summary()"
   ]
  },
  {
   "cell_type": "code",
   "execution_count": 14,
   "id": "7095b7ab",
   "metadata": {},
   "outputs": [],
   "source": [
    "# Compiling a model by giving loss funtions and all:\n",
    "\n",
    "model.compile(optimizer='adam', loss='sparse_categorical_crossentropy', metrics = ['accuracy'])"
   ]
  },
  {
   "cell_type": "code",
   "execution_count": 15,
   "id": "05c5fd15",
   "metadata": {},
   "outputs": [
    {
     "name": "stdout",
     "output_type": "stream",
     "text": [
      "Epoch 1/25\n",
      "750/750 [==============================] - 2s 2ms/step - loss: 0.4777 - accuracy: 0.8535 - val_loss: 0.1870 - val_accuracy: 0.9423\n",
      "Epoch 2/25\n",
      "750/750 [==============================] - 1s 2ms/step - loss: 0.2338 - accuracy: 0.9300 - val_loss: 0.1387 - val_accuracy: 0.9565\n",
      "Epoch 3/25\n",
      "750/750 [==============================] - 1s 2ms/step - loss: 0.1832 - accuracy: 0.9449 - val_loss: 0.1186 - val_accuracy: 0.9630\n",
      "Epoch 4/25\n",
      "750/750 [==============================] - 1s 2ms/step - loss: 0.1594 - accuracy: 0.9507 - val_loss: 0.1052 - val_accuracy: 0.9677\n",
      "Epoch 5/25\n",
      "750/750 [==============================] - 1s 2ms/step - loss: 0.1411 - accuracy: 0.9563 - val_loss: 0.0956 - val_accuracy: 0.9714\n",
      "Epoch 6/25\n",
      "750/750 [==============================] - 1s 2ms/step - loss: 0.1287 - accuracy: 0.9610 - val_loss: 0.0915 - val_accuracy: 0.9722\n",
      "Epoch 7/25\n",
      "750/750 [==============================] - 1s 2ms/step - loss: 0.1200 - accuracy: 0.9632 - val_loss: 0.0912 - val_accuracy: 0.9722\n",
      "Epoch 8/25\n",
      "750/750 [==============================] - 1s 2ms/step - loss: 0.1151 - accuracy: 0.9630 - val_loss: 0.0831 - val_accuracy: 0.9755\n",
      "Epoch 9/25\n",
      "750/750 [==============================] - 1s 2ms/step - loss: 0.1060 - accuracy: 0.9667 - val_loss: 0.0842 - val_accuracy: 0.9753\n",
      "Epoch 10/25\n",
      "750/750 [==============================] - 1s 2ms/step - loss: 0.1016 - accuracy: 0.9685 - val_loss: 0.0835 - val_accuracy: 0.9744\n",
      "Epoch 11/25\n",
      "750/750 [==============================] - 2s 2ms/step - loss: 0.0960 - accuracy: 0.9700 - val_loss: 0.0810 - val_accuracy: 0.9765\n",
      "Epoch 12/25\n",
      "750/750 [==============================] - 1s 2ms/step - loss: 0.0932 - accuracy: 0.9696 - val_loss: 0.0761 - val_accuracy: 0.9787\n",
      "Epoch 13/25\n",
      "750/750 [==============================] - 1s 2ms/step - loss: 0.0883 - accuracy: 0.9711 - val_loss: 0.0752 - val_accuracy: 0.9783\n",
      "Epoch 14/25\n",
      "750/750 [==============================] - 1s 2ms/step - loss: 0.0860 - accuracy: 0.9720 - val_loss: 0.0807 - val_accuracy: 0.9777\n",
      "Epoch 15/25\n",
      "750/750 [==============================] - 1s 2ms/step - loss: 0.0858 - accuracy: 0.9731 - val_loss: 0.0753 - val_accuracy: 0.9775\n",
      "Epoch 16/25\n",
      "750/750 [==============================] - 1s 2ms/step - loss: 0.0823 - accuracy: 0.9732 - val_loss: 0.0764 - val_accuracy: 0.9780\n",
      "Epoch 17/25\n",
      "750/750 [==============================] - 1s 2ms/step - loss: 0.0819 - accuracy: 0.9736 - val_loss: 0.0731 - val_accuracy: 0.9793\n",
      "Epoch 18/25\n",
      "750/750 [==============================] - 1s 2ms/step - loss: 0.0785 - accuracy: 0.9753 - val_loss: 0.0770 - val_accuracy: 0.9783\n",
      "Epoch 19/25\n",
      "750/750 [==============================] - 1s 2ms/step - loss: 0.0782 - accuracy: 0.9758 - val_loss: 0.0792 - val_accuracy: 0.9785\n",
      "Epoch 20/25\n",
      "750/750 [==============================] - 1s 2ms/step - loss: 0.0778 - accuracy: 0.9746 - val_loss: 0.0768 - val_accuracy: 0.9793\n",
      "Epoch 21/25\n",
      "750/750 [==============================] - 1s 2ms/step - loss: 0.0757 - accuracy: 0.9754 - val_loss: 0.0731 - val_accuracy: 0.9788\n",
      "Epoch 22/25\n",
      "750/750 [==============================] - 1s 2ms/step - loss: 0.0742 - accuracy: 0.9763 - val_loss: 0.0751 - val_accuracy: 0.9801\n",
      "Epoch 23/25\n",
      "750/750 [==============================] - 1s 2ms/step - loss: 0.0714 - accuracy: 0.9771 - val_loss: 0.0758 - val_accuracy: 0.9791\n",
      "Epoch 24/25\n",
      "750/750 [==============================] - 1s 2ms/step - loss: 0.0694 - accuracy: 0.9776 - val_loss: 0.0740 - val_accuracy: 0.9792\n",
      "Epoch 25/25\n",
      "750/750 [==============================] - 1s 2ms/step - loss: 0.0682 - accuracy: 0.9778 - val_loss: 0.0761 - val_accuracy: 0.9787\n"
     ]
    }
   ],
   "source": [
    "history = model.fit(X_train, y_train, epochs=25, batch_size=64, validation_split=0.2)"
   ]
  },
  {
   "cell_type": "code",
   "execution_count": 16,
   "id": "a77dd311",
   "metadata": {},
   "outputs": [
    {
     "name": "stdout",
     "output_type": "stream",
     "text": [
      "313/313 [==============================] - 0s 666us/step\n"
     ]
    }
   ],
   "source": [
    "# Running created model on test image dataset:\n",
    "\n",
    "y_prob = model.predict(X_test)"
   ]
  },
  {
   "cell_type": "code",
   "execution_count": 17,
   "id": "8f573c36",
   "metadata": {},
   "outputs": [
    {
     "data": {
      "text/plain": [
       "array([[1.07771329e-13, 1.34059153e-09, 1.77856492e-07, ...,\n",
       "        9.99999881e-01, 1.29286009e-11, 2.71229901e-08],\n",
       "       [3.59197025e-12, 2.14912161e-05, 9.99978423e-01, ...,\n",
       "        1.23732899e-11, 7.29491023e-10, 2.66401747e-18],\n",
       "       [1.84863869e-09, 9.99997973e-01, 1.04054386e-07, ...,\n",
       "        2.52679712e-07, 9.61688556e-07, 1.54097526e-10],\n",
       "       ...,\n",
       "       [1.12258810e-14, 2.71716261e-10, 6.55208179e-12, ...,\n",
       "        8.91495375e-08, 2.27476278e-08, 9.82041365e-06],\n",
       "       [4.06413098e-11, 2.38341139e-12, 1.14156555e-13, ...,\n",
       "        3.22607804e-12, 4.14921851e-06, 1.62818028e-13],\n",
       "       [3.31942945e-11, 6.10043971e-15, 7.96249405e-13, ...,\n",
       "        9.05050878e-20, 3.96676608e-10, 1.07175155e-14]], dtype=float32)"
      ]
     },
     "execution_count": 17,
     "metadata": {},
     "output_type": "execute_result"
    }
   ],
   "source": [
    "# Showing maximum possibility of label will occure:\n",
    "\n",
    "y_prob"
   ]
  },
  {
   "cell_type": "code",
   "execution_count": 18,
   "id": "b1b44725",
   "metadata": {},
   "outputs": [],
   "source": [
    "# Return the indices of the max elements by using argmax function:\n",
    "\n",
    "y_pred = y_prob.argmax(axis=1)"
   ]
  },
  {
   "cell_type": "code",
   "execution_count": 19,
   "id": "709d688b",
   "metadata": {},
   "outputs": [
    {
     "data": {
      "text/plain": [
       "array([7, 2, 1, ..., 4, 5, 6], dtype=int64)"
      ]
     },
     "execution_count": 19,
     "metadata": {},
     "output_type": "execute_result"
    }
   ],
   "source": [
    "y_pred"
   ]
  },
  {
   "cell_type": "code",
   "execution_count": 20,
   "id": "76800f25",
   "metadata": {},
   "outputs": [
    {
     "name": "stdout",
     "output_type": "stream",
     "text": [
      "Accuracy: 0.9804\n"
     ]
    }
   ],
   "source": [
    "# Accuracy of model for testing:\n",
    "\n",
    "from sklearn.metrics import accuracy_score\n",
    "print(f\"Accuracy:\",accuracy_score(y_test, y_pred))"
   ]
  },
  {
   "cell_type": "code",
   "execution_count": 21,
   "id": "2fe7efbc",
   "metadata": {},
   "outputs": [
    {
     "data": {
      "text/plain": [
       "[<matplotlib.lines.Line2D at 0x1de870b1850>]"
      ]
     },
     "execution_count": 21,
     "metadata": {},
     "output_type": "execute_result"
    },
    {
     "data": {
      "image/png": "[encoded data removed]",
      "text/plain": [
       "<Figure size 640x480 with 1 Axes>"
      ]
     },
     "metadata": {},
     "output_type": "display_data"
    }
   ],
   "source": [
    "# Plotting a result of loss and val_loss of model:\n",
    "\n",
    "plt.plot(history.history[\"loss\"])\n",
    "plt.plot(history.history[\"val_loss\"])"
   ]
  },
  {
   "cell_type": "code",
   "execution_count": 22,
   "id": "a06ed6df",
   "metadata": {},
   "outputs": [
    {
     "data": {
      "text/plain": [
       "[<matplotlib.lines.Line2D at 0x1de8726df40>]"
      ]
     },
     "execution_count": 22,
     "metadata": {},
     "output_type": "execute_result"
    },
    {
     "data": {
      "image/png": "[encoded data removed]",
      "text/plain": [
       "<Figure size 640x480 with 1 Axes>"
      ]
     },
     "metadata": {},
     "output_type": "display_data"
    }
   ],
   "source": [
    "# Plotting a result of accuracy and val_accuracy of model:\n",
    "\n",
    "plt.plot(history.history[\"accuracy\"])\n",
    "plt.plot(history.history[\"val_accuracy\"])"
   ]
  },
  {
   "cell_type": "code",
   "execution_count": 23,
   "id": "dfc3bf08",
   "metadata": {},
   "outputs": [
    {
     "data": {
      "text/plain": [
       "(-0.5, 27.5, 27.5, -0.5)"
      ]
     },
     "execution_count": 23,
     "metadata": {},
     "output_type": "execute_result"
    },
    {
     "data": {
      "image/png": "[encoded data removed]",
      "text/plain": [
       "<Figure size 640x480 with 1 Axes>"
      ]
     },
     "metadata": {},
     "output_type": "display_data"
    }
   ],
   "source": [
    "# Displaying random image by selecting:\n",
    "\n",
    "plt.imshow(X_test[1908], cmap=\"binary\")\n",
    "plt.axis(\"off\")"
   ]
  },
  {
   "cell_type": "code",
   "execution_count": 24,
   "id": "0b277817",
   "metadata": {},
   "outputs": [
    {
     "name": "stdout",
     "output_type": "stream",
     "text": [
      "1/1 [==============================] - 0s 14ms/step\n",
      "Predicted Number: [6]\n"
     ]
    }
   ],
   "source": [
    "# Will show the prediction of the image we choose earliar:\n",
    "\n",
    "Predicted_Number = model.predict(np.array([X_test[1908]]))\n",
    "Predicted_Number = np.argmax(Predicted_Number,axis=1)\n",
    "print(f\"Predicted Number:\",Predicted_Number)"
   ]
  },
  {
   "cell_type": "code",
   "execution_count": null,
   "id": "670f73e5",
   "metadata": {},
   "outputs": [],
   "source": []
  }
 ],
 "metadata": {
  "kernelspec": {
   "display_name": "Python 3 (ipykernel)",
   "language": "python",
   "name": "python3"
  },
  "language_info": {
   "codemirror_mode": {
    "name": "ipython",
    "version": 3
   },
   "file_extension": ".py",
   "mimetype": "text/x-python",
   "name": "python",
   "nbconvert_exporter": "python",
   "pygments_lexer": "ipython3",
   "version": "3.9.13"
  }
 },
 "nbformat": 4,
 "nbformat_minor": 5
}
